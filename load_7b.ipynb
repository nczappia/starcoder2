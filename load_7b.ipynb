{
 "cells": [
  {
   "cell_type": "code",
   "execution_count": 1,
   "metadata": {},
   "outputs": [
    {
     "name": "stdout",
     "output_type": "stream",
     "text": [
      "Collecting git+https://github.com/huggingface/transformers.git (from -r requirements.txt (line 1))\n",
      "  Cloning https://github.com/huggingface/transformers.git to /tmp/pip-req-build-f66in6lm\n",
      "  Running command git clone --filter=blob:none --quiet https://github.com/huggingface/transformers.git /tmp/pip-req-build-f66in6lm\n",
      "  Resolved https://github.com/huggingface/transformers.git to commit 6657fb5fed3f94812ef97dda16e91eee77f03d61\n",
      "  Installing build dependencies ... \u001b[?25ldone\n",
      "\u001b[?25h  Getting requirements to build wheel ... \u001b[?25ldone\n",
      "\u001b[?25h  Installing backend dependencies ... \u001b[?25ldone\n",
      "\u001b[?25h  Preparing metadata (pyproject.toml) ... \u001b[?25ldone\n",
      "\u001b[?25hRequirement already satisfied: accelerate==0.27.1 in /home/mizhap/.local/lib/python3.11/site-packages (from -r requirements.txt (line 2)) (0.27.1)\n",
      "Requirement already satisfied: datasets>=2.16.1 in /home/mizhap/.local/lib/python3.11/site-packages (from -r requirements.txt (line 3)) (2.19.1)\n",
      "Requirement already satisfied: bitsandbytes==0.41.3 in /home/mizhap/.local/lib/python3.11/site-packages (from -r requirements.txt (line 4)) (0.41.3)\n",
      "Requirement already satisfied: peft==0.8.2 in /home/mizhap/.local/lib/python3.11/site-packages (from -r requirements.txt (line 5)) (0.8.2)\n",
      "Requirement already satisfied: trl==0.7.10 in /home/mizhap/.local/lib/python3.11/site-packages (from -r requirements.txt (line 6)) (0.7.10)\n",
      "Requirement already satisfied: wandb==0.16.3 in /home/mizhap/.local/lib/python3.11/site-packages (from -r requirements.txt (line 7)) (0.16.3)\n",
      "Requirement already satisfied: huggingface_hub==0.23.0 in /home/mizhap/.local/lib/python3.11/site-packages (from -r requirements.txt (line 8)) (0.23.0)\n",
      "Requirement already satisfied: numpy>=1.17 in /home/mizhap/.local/lib/python3.11/site-packages (from accelerate==0.27.1->-r requirements.txt (line 2)) (1.23.5)\n",
      "Requirement already satisfied: packaging>=20.0 in /home/mizhap/.local/lib/python3.11/site-packages (from accelerate==0.27.1->-r requirements.txt (line 2)) (23.2)\n",
      "Requirement already satisfied: psutil in /home/mizhap/.local/lib/python3.11/site-packages (from accelerate==0.27.1->-r requirements.txt (line 2)) (5.9.8)\n",
      "Requirement already satisfied: pyyaml in /home/mizhap/.local/lib/python3.11/site-packages (from accelerate==0.27.1->-r requirements.txt (line 2)) (6.0.1)\n",
      "Requirement already satisfied: torch>=1.10.0 in /home/mizhap/.local/lib/python3.11/site-packages (from accelerate==0.27.1->-r requirements.txt (line 2)) (2.0.1)\n",
      "Requirement already satisfied: safetensors>=0.3.1 in /home/mizhap/.local/lib/python3.11/site-packages (from accelerate==0.27.1->-r requirements.txt (line 2)) (0.4.2)\n",
      "Requirement already satisfied: tqdm in /home/mizhap/.local/lib/python3.11/site-packages (from peft==0.8.2->-r requirements.txt (line 5)) (4.66.2)\n",
      "Requirement already satisfied: tyro>=0.5.11 in /home/mizhap/.local/lib/python3.11/site-packages (from trl==0.7.10->-r requirements.txt (line 6)) (0.8.4)\n",
      "Requirement already satisfied: Click!=8.0.0,>=7.1 in /home/mizhap/.local/lib/python3.11/site-packages (from wandb==0.16.3->-r requirements.txt (line 7)) (8.1.7)\n",
      "Requirement already satisfied: GitPython!=3.1.29,>=1.0.0 in /home/mizhap/.local/lib/python3.11/site-packages (from wandb==0.16.3->-r requirements.txt (line 7)) (3.1.43)\n",
      "Requirement already satisfied: requests<3,>=2.0.0 in /home/mizhap/.local/lib/python3.11/site-packages (from wandb==0.16.3->-r requirements.txt (line 7)) (2.31.0)\n",
      "Requirement already satisfied: sentry-sdk>=1.0.0 in /home/mizhap/.local/lib/python3.11/site-packages (from wandb==0.16.3->-r requirements.txt (line 7)) (2.2.1)\n",
      "Requirement already satisfied: docker-pycreds>=0.4.0 in /home/mizhap/.local/lib/python3.11/site-packages (from wandb==0.16.3->-r requirements.txt (line 7)) (0.4.0)\n",
      "Requirement already satisfied: setproctitle in /home/mizhap/.local/lib/python3.11/site-packages (from wandb==0.16.3->-r requirements.txt (line 7)) (1.3.3)\n",
      "Requirement already satisfied: setuptools in ./.conda/lib/python3.11/site-packages (from wandb==0.16.3->-r requirements.txt (line 7)) (69.5.1)\n",
      "Requirement already satisfied: appdirs>=1.4.3 in /home/mizhap/.local/lib/python3.11/site-packages (from wandb==0.16.3->-r requirements.txt (line 7)) (1.4.4)\n",
      "Requirement already satisfied: protobuf!=4.21.0,<5,>=3.19.0 in /home/mizhap/.local/lib/python3.11/site-packages (from wandb==0.16.3->-r requirements.txt (line 7)) (4.25.3)\n",
      "Requirement already satisfied: filelock in /home/mizhap/.local/lib/python3.11/site-packages (from huggingface_hub==0.23.0->-r requirements.txt (line 8)) (3.13.1)\n",
      "Requirement already satisfied: fsspec>=2023.5.0 in /home/mizhap/.local/lib/python3.11/site-packages (from huggingface_hub==0.23.0->-r requirements.txt (line 8)) (2024.2.0)\n",
      "Requirement already satisfied: typing-extensions>=3.7.4.3 in /home/mizhap/.local/lib/python3.11/site-packages (from huggingface_hub==0.23.0->-r requirements.txt (line 8)) (4.9.0)\n",
      "Requirement already satisfied: regex!=2019.12.17 in /home/mizhap/.local/lib/python3.11/site-packages (from transformers==4.42.0.dev0->-r requirements.txt (line 1)) (2023.12.25)\n",
      "Requirement already satisfied: tokenizers<0.20,>=0.19 in /home/mizhap/.local/lib/python3.11/site-packages (from transformers==4.42.0.dev0->-r requirements.txt (line 1)) (0.19.1)\n",
      "Requirement already satisfied: pyarrow>=12.0.0 in /home/mizhap/.local/lib/python3.11/site-packages (from datasets>=2.16.1->-r requirements.txt (line 3)) (16.1.0)\n",
      "Requirement already satisfied: pyarrow-hotfix in /home/mizhap/.local/lib/python3.11/site-packages (from datasets>=2.16.1->-r requirements.txt (line 3)) (0.6)\n",
      "Requirement already satisfied: dill<0.3.9,>=0.3.0 in /home/mizhap/.local/lib/python3.11/site-packages (from datasets>=2.16.1->-r requirements.txt (line 3)) (0.3.8)\n",
      "Requirement already satisfied: pandas in /home/mizhap/.local/lib/python3.11/site-packages (from datasets>=2.16.1->-r requirements.txt (line 3)) (2.0.3)\n",
      "Requirement already satisfied: xxhash in /home/mizhap/.local/lib/python3.11/site-packages (from datasets>=2.16.1->-r requirements.txt (line 3)) (3.4.1)\n",
      "Requirement already satisfied: multiprocess in /home/mizhap/.local/lib/python3.11/site-packages (from datasets>=2.16.1->-r requirements.txt (line 3)) (0.70.16)\n",
      "Requirement already satisfied: aiohttp in /home/mizhap/.local/lib/python3.11/site-packages (from datasets>=2.16.1->-r requirements.txt (line 3)) (3.9.3)\n",
      "Requirement already satisfied: six>=1.4.0 in /home/mizhap/.local/lib/python3.11/site-packages (from docker-pycreds>=0.4.0->wandb==0.16.3->-r requirements.txt (line 7)) (1.16.0)\n",
      "Requirement already satisfied: aiosignal>=1.1.2 in /home/mizhap/.local/lib/python3.11/site-packages (from aiohttp->datasets>=2.16.1->-r requirements.txt (line 3)) (1.3.1)\n",
      "Requirement already satisfied: attrs>=17.3.0 in /home/mizhap/.local/lib/python3.11/site-packages (from aiohttp->datasets>=2.16.1->-r requirements.txt (line 3)) (23.2.0)\n",
      "Requirement already satisfied: frozenlist>=1.1.1 in /home/mizhap/.local/lib/python3.11/site-packages (from aiohttp->datasets>=2.16.1->-r requirements.txt (line 3)) (1.4.1)\n",
      "Requirement already satisfied: multidict<7.0,>=4.5 in /home/mizhap/.local/lib/python3.11/site-packages (from aiohttp->datasets>=2.16.1->-r requirements.txt (line 3)) (6.0.5)\n",
      "Requirement already satisfied: yarl<2.0,>=1.0 in /home/mizhap/.local/lib/python3.11/site-packages (from aiohttp->datasets>=2.16.1->-r requirements.txt (line 3)) (1.9.4)\n",
      "Requirement already satisfied: gitdb<5,>=4.0.1 in /home/mizhap/.local/lib/python3.11/site-packages (from GitPython!=3.1.29,>=1.0.0->wandb==0.16.3->-r requirements.txt (line 7)) (4.0.11)\n",
      "Requirement already satisfied: charset-normalizer<4,>=2 in /home/mizhap/.local/lib/python3.11/site-packages (from requests<3,>=2.0.0->wandb==0.16.3->-r requirements.txt (line 7)) (3.3.2)\n",
      "Requirement already satisfied: idna<4,>=2.5 in /home/mizhap/.local/lib/python3.11/site-packages (from requests<3,>=2.0.0->wandb==0.16.3->-r requirements.txt (line 7)) (3.6)\n",
      "Requirement already satisfied: urllib3<3,>=1.21.1 in /home/mizhap/.local/lib/python3.11/site-packages (from requests<3,>=2.0.0->wandb==0.16.3->-r requirements.txt (line 7)) (2.2.1)\n",
      "Requirement already satisfied: certifi>=2017.4.17 in /home/mizhap/.local/lib/python3.11/site-packages (from requests<3,>=2.0.0->wandb==0.16.3->-r requirements.txt (line 7)) (2024.2.2)\n",
      "Requirement already satisfied: sympy in /home/mizhap/.local/lib/python3.11/site-packages (from torch>=1.10.0->accelerate==0.27.1->-r requirements.txt (line 2)) (1.12)\n",
      "Requirement already satisfied: networkx in /home/mizhap/.local/lib/python3.11/site-packages (from torch>=1.10.0->accelerate==0.27.1->-r requirements.txt (line 2)) (3.2.1)\n",
      "Requirement already satisfied: jinja2 in /home/mizhap/.local/lib/python3.11/site-packages (from torch>=1.10.0->accelerate==0.27.1->-r requirements.txt (line 2)) (3.1.3)\n",
      "Requirement already satisfied: nvidia-cuda-nvrtc-cu11==11.7.99 in /home/mizhap/.local/lib/python3.11/site-packages (from torch>=1.10.0->accelerate==0.27.1->-r requirements.txt (line 2)) (11.7.99)\n",
      "Requirement already satisfied: nvidia-cuda-runtime-cu11==11.7.99 in /home/mizhap/.local/lib/python3.11/site-packages (from torch>=1.10.0->accelerate==0.27.1->-r requirements.txt (line 2)) (11.7.99)\n",
      "Requirement already satisfied: nvidia-cuda-cupti-cu11==11.7.101 in /home/mizhap/.local/lib/python3.11/site-packages (from torch>=1.10.0->accelerate==0.27.1->-r requirements.txt (line 2)) (11.7.101)\n",
      "Requirement already satisfied: nvidia-cudnn-cu11==8.5.0.96 in /home/mizhap/.local/lib/python3.11/site-packages (from torch>=1.10.0->accelerate==0.27.1->-r requirements.txt (line 2)) (8.5.0.96)\n",
      "Requirement already satisfied: nvidia-cublas-cu11==11.10.3.66 in /home/mizhap/.local/lib/python3.11/site-packages (from torch>=1.10.0->accelerate==0.27.1->-r requirements.txt (line 2)) (11.10.3.66)\n",
      "Requirement already satisfied: nvidia-cufft-cu11==10.9.0.58 in /home/mizhap/.local/lib/python3.11/site-packages (from torch>=1.10.0->accelerate==0.27.1->-r requirements.txt (line 2)) (10.9.0.58)\n",
      "Requirement already satisfied: nvidia-curand-cu11==10.2.10.91 in /home/mizhap/.local/lib/python3.11/site-packages (from torch>=1.10.0->accelerate==0.27.1->-r requirements.txt (line 2)) (10.2.10.91)\n",
      "Requirement already satisfied: nvidia-cusolver-cu11==11.4.0.1 in /home/mizhap/.local/lib/python3.11/site-packages (from torch>=1.10.0->accelerate==0.27.1->-r requirements.txt (line 2)) (11.4.0.1)\n",
      "Requirement already satisfied: nvidia-cusparse-cu11==11.7.4.91 in /home/mizhap/.local/lib/python3.11/site-packages (from torch>=1.10.0->accelerate==0.27.1->-r requirements.txt (line 2)) (11.7.4.91)\n",
      "Requirement already satisfied: nvidia-nccl-cu11==2.14.3 in /home/mizhap/.local/lib/python3.11/site-packages (from torch>=1.10.0->accelerate==0.27.1->-r requirements.txt (line 2)) (2.14.3)\n",
      "Requirement already satisfied: nvidia-nvtx-cu11==11.7.91 in /home/mizhap/.local/lib/python3.11/site-packages (from torch>=1.10.0->accelerate==0.27.1->-r requirements.txt (line 2)) (11.7.91)\n",
      "Requirement already satisfied: triton==2.0.0 in /home/mizhap/.local/lib/python3.11/site-packages (from torch>=1.10.0->accelerate==0.27.1->-r requirements.txt (line 2)) (2.0.0)\n",
      "Requirement already satisfied: wheel in ./.conda/lib/python3.11/site-packages (from nvidia-cublas-cu11==11.10.3.66->torch>=1.10.0->accelerate==0.27.1->-r requirements.txt (line 2)) (0.43.0)\n",
      "Requirement already satisfied: cmake in /home/mizhap/.local/lib/python3.11/site-packages (from triton==2.0.0->torch>=1.10.0->accelerate==0.27.1->-r requirements.txt (line 2)) (3.28.3)\n",
      "Requirement already satisfied: lit in /home/mizhap/.local/lib/python3.11/site-packages (from triton==2.0.0->torch>=1.10.0->accelerate==0.27.1->-r requirements.txt (line 2)) (17.0.6)\n",
      "Requirement already satisfied: docstring-parser>=0.14.1 in /home/mizhap/.local/lib/python3.11/site-packages (from tyro>=0.5.11->trl==0.7.10->-r requirements.txt (line 6)) (0.16)\n",
      "Requirement already satisfied: rich>=11.1.0 in /home/mizhap/.local/lib/python3.11/site-packages (from tyro>=0.5.11->trl==0.7.10->-r requirements.txt (line 6)) (13.7.0)\n",
      "Requirement already satisfied: shtab>=1.5.6 in /home/mizhap/.local/lib/python3.11/site-packages (from tyro>=0.5.11->trl==0.7.10->-r requirements.txt (line 6)) (1.7.1)\n",
      "Requirement already satisfied: python-dateutil>=2.8.2 in /home/mizhap/.local/lib/python3.11/site-packages (from pandas->datasets>=2.16.1->-r requirements.txt (line 3)) (2.8.2)\n",
      "Requirement already satisfied: pytz>=2020.1 in /home/mizhap/.local/lib/python3.11/site-packages (from pandas->datasets>=2.16.1->-r requirements.txt (line 3)) (2024.1)\n",
      "Requirement already satisfied: tzdata>=2022.1 in /home/mizhap/.local/lib/python3.11/site-packages (from pandas->datasets>=2.16.1->-r requirements.txt (line 3)) (2024.1)\n",
      "Requirement already satisfied: smmap<6,>=3.0.1 in /home/mizhap/.local/lib/python3.11/site-packages (from gitdb<5,>=4.0.1->GitPython!=3.1.29,>=1.0.0->wandb==0.16.3->-r requirements.txt (line 7)) (5.0.1)\n",
      "Requirement already satisfied: markdown-it-py>=2.2.0 in /home/mizhap/.local/lib/python3.11/site-packages (from rich>=11.1.0->tyro>=0.5.11->trl==0.7.10->-r requirements.txt (line 6)) (3.0.0)\n",
      "Requirement already satisfied: pygments<3.0.0,>=2.13.0 in /home/mizhap/.local/lib/python3.11/site-packages (from rich>=11.1.0->tyro>=0.5.11->trl==0.7.10->-r requirements.txt (line 6)) (2.17.2)\n",
      "Requirement already satisfied: MarkupSafe>=2.0 in /home/mizhap/.local/lib/python3.11/site-packages (from jinja2->torch>=1.10.0->accelerate==0.27.1->-r requirements.txt (line 2)) (2.1.5)\n",
      "Requirement already satisfied: mpmath>=0.19 in /home/mizhap/.local/lib/python3.11/site-packages (from sympy->torch>=1.10.0->accelerate==0.27.1->-r requirements.txt (line 2)) (1.3.0)\n",
      "Requirement already satisfied: mdurl~=0.1 in /home/mizhap/.local/lib/python3.11/site-packages (from markdown-it-py>=2.2.0->rich>=11.1.0->tyro>=0.5.11->trl==0.7.10->-r requirements.txt (line 6)) (0.1.2)\n",
      "\u001b[33mDEPRECATION: pytorch-lightning 1.7.7 has a non-standard dependency specifier torch>=1.9.*. pip 24.1 will enforce this behaviour change. A possible replacement is to upgrade to a newer version of pytorch-lightning or contact the author to suggest that they release a version with a conforming dependency specifiers. Discussion can be found at https://github.com/pypa/pip/issues/12063\u001b[0m\u001b[33m\n",
      "\u001b[0mNote: you may need to restart the kernel to use updated packages.\n"
     ]
    }
   ],
   "source": [
    "%pip install -r requirements.txt"
   ]
  },
  {
   "cell_type": "code",
   "execution_count": null,
   "metadata": {},
   "outputs": [],
   "source": [
    "# Type into terminal to set hugging face token\n",
    "# export HF_TOKEN=xxx"
   ]
  },
  {
   "cell_type": "code",
   "execution_count": 2,
   "metadata": {},
   "outputs": [
    {
     "name": "stdout",
     "output_type": "stream",
     "text": [
      "Collecting git+https://github.com/huggingface/transformers.git\n",
      "  Cloning https://github.com/huggingface/transformers.git to /tmp/pip-req-build-38dkbktt\n",
      "  Running command git clone --filter=blob:none --quiet https://github.com/huggingface/transformers.git /tmp/pip-req-build-38dkbktt\n",
      "  Resolved https://github.com/huggingface/transformers.git to commit 6657fb5fed3f94812ef97dda16e91eee77f03d61\n",
      "  Installing build dependencies ... \u001b[?25ldone\n",
      "\u001b[?25h  Getting requirements to build wheel ... \u001b[?25ldone\n",
      "\u001b[?25h  Installing backend dependencies ... \u001b[?25ldone\n",
      "\u001b[?25h  Preparing metadata (pyproject.toml) ... \u001b[?25ldone\n",
      "\u001b[?25hRequirement already satisfied: filelock in /home/mizhap/.local/lib/python3.11/site-packages (from transformers==4.42.0.dev0) (3.13.1)\n",
      "Requirement already satisfied: huggingface-hub<1.0,>=0.23.0 in /home/mizhap/.local/lib/python3.11/site-packages (from transformers==4.42.0.dev0) (0.23.0)\n",
      "Requirement already satisfied: numpy>=1.17 in /home/mizhap/.local/lib/python3.11/site-packages (from transformers==4.42.0.dev0) (1.23.5)\n",
      "Requirement already satisfied: packaging>=20.0 in /home/mizhap/.local/lib/python3.11/site-packages (from transformers==4.42.0.dev0) (23.2)\n",
      "Requirement already satisfied: pyyaml>=5.1 in /home/mizhap/.local/lib/python3.11/site-packages (from transformers==4.42.0.dev0) (6.0.1)\n",
      "Requirement already satisfied: regex!=2019.12.17 in /home/mizhap/.local/lib/python3.11/site-packages (from transformers==4.42.0.dev0) (2023.12.25)\n",
      "Requirement already satisfied: requests in /home/mizhap/.local/lib/python3.11/site-packages (from transformers==4.42.0.dev0) (2.31.0)\n",
      "Requirement already satisfied: tokenizers<0.20,>=0.19 in /home/mizhap/.local/lib/python3.11/site-packages (from transformers==4.42.0.dev0) (0.19.1)\n",
      "Requirement already satisfied: safetensors>=0.4.1 in /home/mizhap/.local/lib/python3.11/site-packages (from transformers==4.42.0.dev0) (0.4.2)\n",
      "Requirement already satisfied: tqdm>=4.27 in /home/mizhap/.local/lib/python3.11/site-packages (from transformers==4.42.0.dev0) (4.66.2)\n",
      "Requirement already satisfied: fsspec>=2023.5.0 in /home/mizhap/.local/lib/python3.11/site-packages (from huggingface-hub<1.0,>=0.23.0->transformers==4.42.0.dev0) (2024.2.0)\n",
      "Requirement already satisfied: typing-extensions>=3.7.4.3 in /home/mizhap/.local/lib/python3.11/site-packages (from huggingface-hub<1.0,>=0.23.0->transformers==4.42.0.dev0) (4.9.0)\n",
      "Requirement already satisfied: charset-normalizer<4,>=2 in /home/mizhap/.local/lib/python3.11/site-packages (from requests->transformers==4.42.0.dev0) (3.3.2)\n",
      "Requirement already satisfied: idna<4,>=2.5 in /home/mizhap/.local/lib/python3.11/site-packages (from requests->transformers==4.42.0.dev0) (3.6)\n",
      "Requirement already satisfied: urllib3<3,>=1.21.1 in /home/mizhap/.local/lib/python3.11/site-packages (from requests->transformers==4.42.0.dev0) (2.2.1)\n",
      "Requirement already satisfied: certifi>=2017.4.17 in /home/mizhap/.local/lib/python3.11/site-packages (from requests->transformers==4.42.0.dev0) (2024.2.2)\n",
      "\u001b[33mDEPRECATION: pytorch-lightning 1.7.7 has a non-standard dependency specifier torch>=1.9.*. pip 24.1 will enforce this behaviour change. A possible replacement is to upgrade to a newer version of pytorch-lightning or contact the author to suggest that they release a version with a conforming dependency specifiers. Discussion can be found at https://github.com/pypa/pip/issues/12063\u001b[0m\u001b[33m\n",
      "\u001b[0mNote: you may need to restart the kernel to use updated packages.\n"
     ]
    }
   ],
   "source": [
    "#Checks that transformers installed\n",
    "%pip install git+https://github.com/huggingface/transformers.git"
   ]
  },
  {
   "cell_type": "markdown",
   "metadata": {},
   "source": [
    "### Full Precision"
   ]
  },
  {
   "cell_type": "code",
   "execution_count": 2,
   "metadata": {},
   "outputs": [
    {
     "data": {
      "application/vnd.jupyter.widget-view+json": {
       "model_id": "80c097c83edc434faa08ce8a5de76d54",
       "version_major": 2,
       "version_minor": 0
      },
      "text/plain": [
       "Loading checkpoint shards:   0%|          | 0/3 [00:00<?, ?it/s]"
      ]
     },
     "metadata": {},
     "output_type": "display_data"
    },
    {
     "ename": "",
     "evalue": "",
     "output_type": "error",
     "traceback": [
      "\u001b[1;31mThe Kernel crashed while executing code in the current cell or a previous cell. \n",
      "\u001b[1;31mPlease review the code in the cell(s) to identify a possible cause of the failure. \n",
      "\u001b[1;31mClick <a href='https://aka.ms/vscodeJupyterKernelCrash'>here</a> for more info. \n",
      "\u001b[1;31mView Jupyter <a href='command:jupyter.viewOutput'>log</a> for further details."
     ]
    }
   ],
   "source": [
    "# Get 7b param model with full precision\n",
    "from transformers import AutoModelForCausalLM, AutoTokenizer\n",
    "\n",
    "checkpoint = \"bigcode/starcoder2-7b\"\n",
    "device = \"cpu\" # \"cuda\" for GPU usage or \"cpu\" for CPU usage\n",
    "\n",
    "tokenizer = AutoTokenizer.from_pretrained(checkpoint)\n",
    "# to use Multiple GPUs do `model = AutoModelForCausalLM.from_pretrained(checkpoint, device_map=\"auto\")`\n",
    "model = AutoModelForCausalLM.from_pretrained(checkpoint).to(device)\n",
    "\n",
    "inputs = tokenizer.encode(\"def print_hello_world():\", return_tensors=\"pt\").to(device)\n",
    "outputs = model.generate(inputs)\n",
    "print(tokenizer.decode(outputs[0]))"
   ]
  },
  {
   "cell_type": "markdown",
   "metadata": {},
   "source": [
    "### torch.bfloat16"
   ]
  },
  {
   "cell_type": "code",
   "execution_count": null,
   "metadata": {},
   "outputs": [],
   "source": [
    "# pip install accelerate\n",
    "import torch\n",
    "from transformers import AutoTokenizer, AutoModelForCausalLM\n",
    "\n",
    "checkpoint = \"bigcode/starcoder2-7b\"\n",
    "tokenizer = AutoTokenizer.from_pretrained(checkpoint)\n",
    "\n",
    "# for fp16 use `torch_dtype=torch.float16` instead\n",
    "model = AutoModelForCausalLM.from_pretrained(checkpoint, device_map=\"auto\", torch_dtype=torch.bfloat16)\n",
    "\n",
    "inputs = tokenizer.encode(\"def print_hello_world():\", return_tensors=\"pt\").to(\"cuda\")\n",
    "outputs = model.generate(inputs)\n",
    "print(tokenizer.decode(outputs[0]))"
   ]
  },
  {
   "cell_type": "markdown",
   "metadata": {},
   "source": [
    "### 8-bit precision (int8)"
   ]
  },
  {
   "cell_type": "code",
   "execution_count": null,
   "metadata": {},
   "outputs": [],
   "source": [
    "# pip install bitsandbytes accelerate\n",
    "from transformers import AutoTokenizer, AutoModelForCausalLM, BitsAndBytesConfig\n",
    "\n",
    "# to use 4bit use `load_in_4bit=True` instead\n",
    "quantization_config = BitsAndBytesConfig(load_in_8bit=True)\n",
    "\n",
    "checkpoint = \"bigcode/starcoder2-7b\"\n",
    "tokenizer = AutoTokenizer.from_pretrained(checkpoint)\n",
    "model = AutoModelForCausalLM.from_pretrained(\"bigcode/starcoder2-15b_16k\", quantization_config=quantization_config)\n",
    "\n",
    "inputs = tokenizer.encode(\"def print_hello_world():\", return_tensors=\"pt\").to(\"cuda\")\n",
    "outputs = model.generate(inputs)\n",
    "print(tokenizer.decode(outputs[0]))"
   ]
  },
  {
   "cell_type": "markdown",
   "metadata": {},
   "source": [
    "### 4-bit precision (int4)"
   ]
  },
  {
   "cell_type": "code",
   "execution_count": null,
   "metadata": {},
   "outputs": [],
   "source": [
    "# pip install bitsandbytes accelerate\n",
    "from transformers import AutoTokenizer, AutoModelForCausalLM, BitsAndBytesConfig\n",
    "\n",
    "# to use 4bit use `load_in_4bit=True` instead\n",
    "quantization_config = BitsAndBytesConfig(load_in_4bit=True)\n",
    "\n",
    "checkpoint = \"bigcode/starcoder2-7b_16k\"\n",
    "tokenizer = AutoTokenizer.from_pretrained(checkpoint)\n",
    "model = AutoModelForCausalLM.from_pretrained(\"bigcode/starcoder2-15b_16k\", quantization_config=quantization_config)\n",
    "\n",
    "inputs = tokenizer.encode(\"def print_hello_world():\", return_tensors=\"pt\").to(\"cuda\")\n",
    "outputs = model.generate(inputs)\n",
    "print(tokenizer.decode(outputs[0]))"
   ]
  }
 ],
 "metadata": {
  "kernelspec": {
   "display_name": "Python 3",
   "language": "python",
   "name": "python3"
  },
  "language_info": {
   "codemirror_mode": {
    "name": "ipython",
    "version": 3
   },
   "file_extension": ".py",
   "mimetype": "text/x-python",
   "name": "python",
   "nbconvert_exporter": "python",
   "pygments_lexer": "ipython3",
   "version": "3.11.9"
  }
 },
 "nbformat": 4,
 "nbformat_minor": 2
}
